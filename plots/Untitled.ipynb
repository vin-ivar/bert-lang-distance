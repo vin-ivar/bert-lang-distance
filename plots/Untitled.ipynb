{
 "cells": [
  {
   "cell_type": "code",
   "execution_count": 1,
   "metadata": {},
   "outputs": [],
   "source": [
    "import seaborn as sns\n",
    "import pandas as pd\n",
    "import sys\n",
    "import numpy as np\n",
    "import matplotlib.pyplot as plt\n",
    "import matplotlib.patches as mpatches"
   ]
  },
  {
   "cell_type": "code",
   "execution_count": 3,
   "metadata": {},
   "outputs": [
    {
     "data": {
      "application/vnd.jupyter.widget-view+json": {
       "model_id": "ae04a69c7cfa4798a8bb9964a1ab5d29",
       "version_major": 2,
       "version_minor": 0
      },
      "text/plain": [
       "interactive(children=(IntSlider(value=179, description='h', max=359), IntSlider(value=49, description='s', max…"
      ]
     },
     "metadata": {},
     "output_type": "display_data"
    },
    {
     "data": {
      "text/plain": [
       "[array([0.94054458, 0.95945542, 0.95679586, 1.        ]),\n",
       " array([0.87363254, 0.90742758, 0.90267475, 1.        ]),\n",
       " array([0.80672051, 0.85539974, 0.84855364, 1.        ]),\n",
       " array([0.73741876, 0.80151376, 0.79249963, 1.        ]),\n",
       " array([0.67050672, 0.74948591, 0.73837852, 1.        ]),\n",
       " array([0.60120497, 0.69559993, 0.68232452, 1.        ]),\n",
       " array([0.53429294, 0.64357209, 0.62820341, 1.        ]),\n",
       " array([0.46499119, 0.58968611, 0.5721494 , 1.        ]),\n",
       " array([0.39807915, 0.53765827, 0.51802829, 1.        ]),\n",
       " array([0.33116712, 0.48563043, 0.46390718, 1.        ])]"
      ]
     },
     "execution_count": 3,
     "metadata": {},
     "output_type": "execute_result"
    }
   ],
   "source": []
  },
  {
   "cell_type": "code",
   "execution_count": null,
   "metadata": {},
   "outputs": [],
   "source": []
  }
 ],
 "metadata": {
  "kernelspec": {
   "display_name": "Python 3",
   "language": "python",
   "name": "python3"
  },
  "language_info": {
   "codemirror_mode": {
    "name": "ipython",
    "version": 3
   },
   "file_extension": ".py",
   "mimetype": "text/x-python",
   "name": "python",
   "nbconvert_exporter": "python",
   "pygments_lexer": "ipython3",
   "version": "3.6.8"
  }
 },
 "nbformat": 4,
 "nbformat_minor": 2
}
